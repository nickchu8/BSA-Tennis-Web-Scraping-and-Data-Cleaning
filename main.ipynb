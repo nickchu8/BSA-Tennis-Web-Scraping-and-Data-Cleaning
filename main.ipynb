{
 "cells": [
  {
   "cell_type": "code",
   "execution_count": 28,
   "metadata": {},
   "outputs": [],
   "source": [
    "import numpy as np\n",
    "import pandas as pd\n",
    "from bs4 import BeautifulSoup\n",
    "import sqlite3"
   ]
  },
  {
   "cell_type": "code",
   "execution_count": 29,
   "metadata": {},
   "outputs": [],
   "source": [
    "hard21 = pd.read_csv(\"2021hard.csv\")\n",
    "clay21 = pd.read_csv(\"2021clay.csv\")\n",
    "grass21 = pd.read_csv(\"2021grass.csv\")\n",
    "\n",
    "hard22 = pd.read_csv(\"2022hard.csv\")\n",
    "clay22 = pd.read_csv(\"2022clay.csv\")\n",
    "grass22 = pd.read_csv(\"2022grass.csv\")\n",
    "\n",
    "hard23 = pd.read_csv(\"2023hard.csv\")\n",
    "clay23 = pd.read_csv(\"2023clay.csv\")\n",
    "grass23 = pd.read_csv(\"2023grass.csv\")\n",
    "overall23 = pd.read_csv(\"2023overall.csv\")\n",
    "\n",
    "hard = [hard21, hard22, hard23]\n",
    "clay = [clay21, clay22, clay23]\n",
    "grass = [grass21, grass22, grass23]"
   ]
  },
  {
   "cell_type": "code",
   "execution_count": 30,
   "metadata": {},
   "outputs": [],
   "source": [
    "#Renaming the columns\n",
    "hard = [df.rename(columns={\"value\": \"Hard_Win%\"}) for df in hard]\n",
    "clay = [df.rename(columns={\"value\": \"Clay_Win%\"}) for df in clay]\n",
    "grass = [df.rename(columns={\"value\": \"Grass_Win%\"}) for df in grass]\n",
    "\n",
    "overall23 = overall23.rename(columns = {\"value\": \"Overall_Win%\"})\n",
    "hard21 = hard[0]\n",
    "hard22 = hard[1]\n",
    "hard23 = hard[2]\n",
    "\n",
    "clay21 = clay[0]\n",
    "clay22 = clay[1]\n",
    "clay23 = clay[2]\n",
    "\n",
    "#lets just focus on 2023\n",
    "grass21 = grass[0]\n",
    "grass22 = grass[1]\n",
    "grass23 = grass[2]"
   ]
  },
  {
   "cell_type": "code",
   "execution_count": 31,
   "metadata": {},
   "outputs": [
    {
     "data": {
      "text/html": [
       "<div>\n",
       "<style scoped>\n",
       "    .dataframe tbody tr th:only-of-type {\n",
       "        vertical-align: middle;\n",
       "    }\n",
       "\n",
       "    .dataframe tbody tr th {\n",
       "        vertical-align: top;\n",
       "    }\n",
       "\n",
       "    .dataframe thead th {\n",
       "        text-align: right;\n",
       "    }\n",
       "</style>\n",
       "<table border=\"1\" class=\"dataframe\">\n",
       "  <thead>\n",
       "    <tr style=\"text-align: right;\">\n",
       "      <th></th>\n",
       "      <th>rank</th>\n",
       "      <th>name</th>\n",
       "      <th>country_name</th>\n",
       "      <th>country_id</th>\n",
       "      <th>Hard_Win%</th>\n",
       "    </tr>\n",
       "  </thead>\n",
       "  <tbody>\n",
       "    <tr>\n",
       "      <th>0</th>\n",
       "      <td>1</td>\n",
       "      <td>Novak Djokovic</td>\n",
       "      <td>Serbia</td>\n",
       "      <td>SRB</td>\n",
       "      <td>96.43%</td>\n",
       "    </tr>\n",
       "    <tr>\n",
       "      <th>1</th>\n",
       "      <td>2</td>\n",
       "      <td>Daniil Medvedev</td>\n",
       "      <td>Russian Federation</td>\n",
       "      <td>RUS</td>\n",
       "      <td>83.93%</td>\n",
       "    </tr>\n",
       "    <tr>\n",
       "      <th>2</th>\n",
       "      <td>3</td>\n",
       "      <td>Jannik Sinner</td>\n",
       "      <td>Italy</td>\n",
       "      <td>ITA</td>\n",
       "      <td>83.33%</td>\n",
       "    </tr>\n",
       "    <tr>\n",
       "      <th>3</th>\n",
       "      <td>4</td>\n",
       "      <td>Carlos Alcaraz Garfia</td>\n",
       "      <td>Spain</td>\n",
       "      <td>ESP</td>\n",
       "      <td>81.25%</td>\n",
       "    </tr>\n",
       "    <tr>\n",
       "      <th>4</th>\n",
       "      <td>5</td>\n",
       "      <td>Taylor Harry Fritz</td>\n",
       "      <td>United States</td>\n",
       "      <td>USA</td>\n",
       "      <td>74.51%</td>\n",
       "    </tr>\n",
       "  </tbody>\n",
       "</table>\n",
       "</div>"
      ],
      "text/plain": [
       "   rank                   name        country_name country_id Hard_Win%\n",
       "0     1         Novak Djokovic              Serbia        SRB    96.43%\n",
       "1     2        Daniil Medvedev  Russian Federation        RUS    83.93%\n",
       "2     3          Jannik Sinner               Italy        ITA    83.33%\n",
       "3     4  Carlos Alcaraz Garfia               Spain        ESP    81.25%\n",
       "4     5     Taylor Harry Fritz       United States        USA    74.51%"
      ]
     },
     "execution_count": 31,
     "metadata": {},
     "output_type": "execute_result"
    }
   ],
   "source": [
    "hard23.head()"
   ]
  },
  {
   "cell_type": "code",
   "execution_count": 33,
   "metadata": {},
   "outputs": [
    {
     "ename": "OperationalError",
     "evalue": "table grass has no column named Grass_Win%",
     "output_type": "error",
     "traceback": [
      "\u001b[1;31m---------------------------------------------------------------------------\u001b[0m",
      "\u001b[1;31mOperationalError\u001b[0m                          Traceback (most recent call last)",
      "\u001b[1;32mc:\\Users\\nyc8p\\OneDrive\\Documents\\GitHub\\BSA-Tennis-Web-Scraping\\main.ipynb Cell 5\u001b[0m line \u001b[0;36m<cell line: 5>\u001b[1;34m()\u001b[0m\n\u001b[0;32m      <a href='vscode-notebook-cell:/c%3A/Users/nyc8p/OneDrive/Documents/GitHub/BSA-Tennis-Web-Scraping/main.ipynb#W3sZmlsZQ%3D%3D?line=2'>3</a>\u001b[0m hard23\u001b[39m.\u001b[39mto_sql(\u001b[39m\"\u001b[39m\u001b[39mhard\u001b[39m\u001b[39m\"\u001b[39m, conn, if_exists \u001b[39m=\u001b[39m \u001b[39m'\u001b[39m\u001b[39mappend\u001b[39m\u001b[39m'\u001b[39m, index \u001b[39m=\u001b[39m \u001b[39mFalse\u001b[39;00m)\n\u001b[0;32m      <a href='vscode-notebook-cell:/c%3A/Users/nyc8p/OneDrive/Documents/GitHub/BSA-Tennis-Web-Scraping/main.ipynb#W3sZmlsZQ%3D%3D?line=3'>4</a>\u001b[0m clay23\u001b[39m.\u001b[39mto_sql(\u001b[39m\"\u001b[39m\u001b[39mclay\u001b[39m\u001b[39m\"\u001b[39m, conn, if_exists \u001b[39m=\u001b[39m \u001b[39m'\u001b[39m\u001b[39mappend\u001b[39m\u001b[39m'\u001b[39m, index \u001b[39m=\u001b[39m \u001b[39mFalse\u001b[39;00m)\n\u001b[1;32m----> <a href='vscode-notebook-cell:/c%3A/Users/nyc8p/OneDrive/Documents/GitHub/BSA-Tennis-Web-Scraping/main.ipynb#W3sZmlsZQ%3D%3D?line=4'>5</a>\u001b[0m grass23\u001b[39m.\u001b[39;49mto_sql(\u001b[39m\"\u001b[39;49m\u001b[39mgrass\u001b[39;49m\u001b[39m\"\u001b[39;49m, conn, if_exists \u001b[39m=\u001b[39;49m \u001b[39m'\u001b[39;49m\u001b[39mappend\u001b[39;49m\u001b[39m'\u001b[39;49m, index \u001b[39m=\u001b[39;49m \u001b[39mFalse\u001b[39;49;00m)\n\u001b[0;32m      <a href='vscode-notebook-cell:/c%3A/Users/nyc8p/OneDrive/Documents/GitHub/BSA-Tennis-Web-Scraping/main.ipynb#W3sZmlsZQ%3D%3D?line=5'>6</a>\u001b[0m conn\u001b[39m.\u001b[39mclose()\n",
      "File \u001b[1;32mc:\\Users\\nyc8p\\anaconda3\\lib\\site-packages\\pandas\\core\\generic.py:2951\u001b[0m, in \u001b[0;36mNDFrame.to_sql\u001b[1;34m(self, name, con, schema, if_exists, index, index_label, chunksize, dtype, method)\u001b[0m\n\u001b[0;32m   2794\u001b[0m \u001b[39m\"\"\"\u001b[39;00m\n\u001b[0;32m   2795\u001b[0m \u001b[39mWrite records stored in a DataFrame to a SQL database.\u001b[39;00m\n\u001b[0;32m   2796\u001b[0m \n\u001b[1;32m   (...)\u001b[0m\n\u001b[0;32m   2947\u001b[0m \u001b[39m[(1,), (None,), (2,)]\u001b[39;00m\n\u001b[0;32m   2948\u001b[0m \u001b[39m\"\"\"\u001b[39;00m  \u001b[39m# noqa:E501\u001b[39;00m\n\u001b[0;32m   2949\u001b[0m \u001b[39mfrom\u001b[39;00m \u001b[39mpandas\u001b[39;00m\u001b[39m.\u001b[39;00m\u001b[39mio\u001b[39;00m \u001b[39mimport\u001b[39;00m sql\n\u001b[1;32m-> 2951\u001b[0m \u001b[39mreturn\u001b[39;00m sql\u001b[39m.\u001b[39;49mto_sql(\n\u001b[0;32m   2952\u001b[0m     \u001b[39mself\u001b[39;49m,\n\u001b[0;32m   2953\u001b[0m     name,\n\u001b[0;32m   2954\u001b[0m     con,\n\u001b[0;32m   2955\u001b[0m     schema\u001b[39m=\u001b[39;49mschema,\n\u001b[0;32m   2956\u001b[0m     if_exists\u001b[39m=\u001b[39;49mif_exists,\n\u001b[0;32m   2957\u001b[0m     index\u001b[39m=\u001b[39;49mindex,\n\u001b[0;32m   2958\u001b[0m     index_label\u001b[39m=\u001b[39;49mindex_label,\n\u001b[0;32m   2959\u001b[0m     chunksize\u001b[39m=\u001b[39;49mchunksize,\n\u001b[0;32m   2960\u001b[0m     dtype\u001b[39m=\u001b[39;49mdtype,\n\u001b[0;32m   2961\u001b[0m     method\u001b[39m=\u001b[39;49mmethod,\n\u001b[0;32m   2962\u001b[0m )\n",
      "File \u001b[1;32mc:\\Users\\nyc8p\\anaconda3\\lib\\site-packages\\pandas\\io\\sql.py:697\u001b[0m, in \u001b[0;36mto_sql\u001b[1;34m(frame, name, con, schema, if_exists, index, index_label, chunksize, dtype, method, engine, **engine_kwargs)\u001b[0m\n\u001b[0;32m    692\u001b[0m \u001b[39melif\u001b[39;00m \u001b[39mnot\u001b[39;00m \u001b[39misinstance\u001b[39m(frame, DataFrame):\n\u001b[0;32m    693\u001b[0m     \u001b[39mraise\u001b[39;00m \u001b[39mNotImplementedError\u001b[39;00m(\n\u001b[0;32m    694\u001b[0m         \u001b[39m\"\u001b[39m\u001b[39m'\u001b[39m\u001b[39mframe\u001b[39m\u001b[39m'\u001b[39m\u001b[39m argument should be either a Series or a DataFrame\u001b[39m\u001b[39m\"\u001b[39m\n\u001b[0;32m    695\u001b[0m     )\n\u001b[1;32m--> 697\u001b[0m \u001b[39mreturn\u001b[39;00m pandas_sql\u001b[39m.\u001b[39mto_sql(\n\u001b[0;32m    698\u001b[0m     frame,\n\u001b[0;32m    699\u001b[0m     name,\n\u001b[0;32m    700\u001b[0m     if_exists\u001b[39m=\u001b[39mif_exists,\n\u001b[0;32m    701\u001b[0m     index\u001b[39m=\u001b[39mindex,\n\u001b[0;32m    702\u001b[0m     index_label\u001b[39m=\u001b[39mindex_label,\n\u001b[0;32m    703\u001b[0m     schema\u001b[39m=\u001b[39mschema,\n\u001b[0;32m    704\u001b[0m     chunksize\u001b[39m=\u001b[39mchunksize,\n\u001b[0;32m    705\u001b[0m     dtype\u001b[39m=\u001b[39mdtype,\n\u001b[0;32m    706\u001b[0m     method\u001b[39m=\u001b[39mmethod,\n\u001b[0;32m    707\u001b[0m     engine\u001b[39m=\u001b[39mengine,\n\u001b[0;32m    708\u001b[0m     \u001b[39m*\u001b[39m\u001b[39m*\u001b[39mengine_kwargs,\n\u001b[0;32m    709\u001b[0m )\n",
      "File \u001b[1;32mc:\\Users\\nyc8p\\anaconda3\\lib\\site-packages\\pandas\\io\\sql.py:2190\u001b[0m, in \u001b[0;36mSQLiteDatabase.to_sql\u001b[1;34m(self, frame, name, if_exists, index, index_label, schema, chunksize, dtype, method, **kwargs)\u001b[0m\n\u001b[0;32m   2180\u001b[0m table \u001b[39m=\u001b[39m SQLiteTable(\n\u001b[0;32m   2181\u001b[0m     name,\n\u001b[0;32m   2182\u001b[0m     \u001b[39mself\u001b[39m,\n\u001b[1;32m   (...)\u001b[0m\n\u001b[0;32m   2187\u001b[0m     dtype\u001b[39m=\u001b[39mdtype,\n\u001b[0;32m   2188\u001b[0m )\n\u001b[0;32m   2189\u001b[0m table\u001b[39m.\u001b[39mcreate()\n\u001b[1;32m-> 2190\u001b[0m \u001b[39mreturn\u001b[39;00m table\u001b[39m.\u001b[39;49minsert(chunksize, method)\n",
      "File \u001b[1;32mc:\\Users\\nyc8p\\anaconda3\\lib\\site-packages\\pandas\\io\\sql.py:950\u001b[0m, in \u001b[0;36mSQLTable.insert\u001b[1;34m(self, chunksize, method)\u001b[0m\n\u001b[0;32m    947\u001b[0m     \u001b[39mbreak\u001b[39;00m\n\u001b[0;32m    949\u001b[0m chunk_iter \u001b[39m=\u001b[39m \u001b[39mzip\u001b[39m(\u001b[39m*\u001b[39m(arr[start_i:end_i] \u001b[39mfor\u001b[39;00m arr \u001b[39min\u001b[39;00m data_list))\n\u001b[1;32m--> 950\u001b[0m num_inserted \u001b[39m=\u001b[39m exec_insert(conn, keys, chunk_iter)\n\u001b[0;32m    951\u001b[0m \u001b[39mif\u001b[39;00m num_inserted \u001b[39mis\u001b[39;00m \u001b[39mNone\u001b[39;00m:\n\u001b[0;32m    952\u001b[0m     total_inserted \u001b[39m=\u001b[39m \u001b[39mNone\u001b[39;00m\n",
      "File \u001b[1;32mc:\\Users\\nyc8p\\anaconda3\\lib\\site-packages\\pandas\\io\\sql.py:1896\u001b[0m, in \u001b[0;36mSQLiteTable._execute_insert\u001b[1;34m(self, conn, keys, data_iter)\u001b[0m\n\u001b[0;32m   1894\u001b[0m \u001b[39mdef\u001b[39;00m \u001b[39m_execute_insert\u001b[39m(\u001b[39mself\u001b[39m, conn, keys, data_iter) \u001b[39m-\u001b[39m\u001b[39m>\u001b[39m \u001b[39mint\u001b[39m:\n\u001b[0;32m   1895\u001b[0m     data_list \u001b[39m=\u001b[39m \u001b[39mlist\u001b[39m(data_iter)\n\u001b[1;32m-> 1896\u001b[0m     conn\u001b[39m.\u001b[39;49mexecutemany(\u001b[39mself\u001b[39;49m\u001b[39m.\u001b[39;49minsert_statement(num_rows\u001b[39m=\u001b[39;49m\u001b[39m1\u001b[39;49m), data_list)\n\u001b[0;32m   1897\u001b[0m     \u001b[39mreturn\u001b[39;00m conn\u001b[39m.\u001b[39mrowcount\n",
      "\u001b[1;31mOperationalError\u001b[0m: table grass has no column named Grass_Win%"
     ]
    }
   ],
   "source": [
    "#Now, let's merge all the 21 dfs together?\n",
    "conn = sqlite3.connect(\"tennis.db\")\n",
    "hard23.to_sql(\"hard\", conn, if_exists = 'append', index = False)\n",
    "clay23.to_sql(\"clay\", conn, if_exists = 'append', index = False)\n",
    "grass23.to_sql(\"grass\", conn, if_exists = 'append', index = False)\n"
   ]
  },
  {
   "cell_type": "code",
   "execution_count": null,
   "metadata": {},
   "outputs": [],
   "source": [
    "cursor = conn.cursor()\n",
    "\n",
    "#combine all the names maybe?"
   ]
  },
  {
   "cell_type": "code",
   "execution_count": null,
   "metadata": {},
   "outputs": [
    {
     "ename": "DatabaseError",
     "evalue": "Execution failed on sql ' \nSELECT H.name, H.country_name, H.'Hard_Win%', C.'Clay_Win%', G.'Grass_Win%'\nFROM hard H\nINNER JOIN clay C ON H.name = C.name\nINNER JOIN grass G on H.name = G.name;\n': no such column: G.Grass_Win%",
     "output_type": "error",
     "traceback": [
      "\u001b[1;31m---------------------------------------------------------------------------\u001b[0m",
      "\u001b[1;31mOperationalError\u001b[0m                          Traceback (most recent call last)",
      "File \u001b[1;32mc:\\Users\\nyc8p\\anaconda3\\lib\\site-packages\\pandas\\io\\sql.py:2020\u001b[0m, in \u001b[0;36mSQLiteDatabase.execute\u001b[1;34m(self, *args, **kwargs)\u001b[0m\n\u001b[0;32m   2019\u001b[0m \u001b[39mtry\u001b[39;00m:\n\u001b[1;32m-> 2020\u001b[0m     cur\u001b[39m.\u001b[39mexecute(\u001b[39m*\u001b[39margs, \u001b[39m*\u001b[39m\u001b[39m*\u001b[39mkwargs)\n\u001b[0;32m   2021\u001b[0m     \u001b[39mreturn\u001b[39;00m cur\n",
      "\u001b[1;31mOperationalError\u001b[0m: no such column: G.Grass_Win%",
      "\nThe above exception was the direct cause of the following exception:\n",
      "\u001b[1;31mDatabaseError\u001b[0m                             Traceback (most recent call last)",
      "\u001b[1;32mc:\\Users\\nyc8p\\OneDrive\\Documents\\GitHub\\BSA-Tennis-Web-Scraping\\main.ipynb Cell 7\u001b[0m line \u001b[0;36m<cell line: 12>\u001b[1;34m()\u001b[0m\n\u001b[0;32m      <a href='vscode-notebook-cell:/c%3A/Users/nyc8p/OneDrive/Documents/GitHub/BSA-Tennis-Web-Scraping/main.ipynb#W6sZmlsZQ%3D%3D?line=3'>4</a>\u001b[0m \u001b[39m#sql query\u001b[39;00m\n\u001b[0;32m      <a href='vscode-notebook-cell:/c%3A/Users/nyc8p/OneDrive/Documents/GitHub/BSA-Tennis-Web-Scraping/main.ipynb#W6sZmlsZQ%3D%3D?line=4'>5</a>\u001b[0m cmd \u001b[39m=\u001b[39m \\\n\u001b[0;32m      <a href='vscode-notebook-cell:/c%3A/Users/nyc8p/OneDrive/Documents/GitHub/BSA-Tennis-Web-Scraping/main.ipynb#W6sZmlsZQ%3D%3D?line=5'>6</a>\u001b[0m \u001b[39m\"\"\" \u001b[39;00m\n\u001b[0;32m      <a href='vscode-notebook-cell:/c%3A/Users/nyc8p/OneDrive/Documents/GitHub/BSA-Tennis-Web-Scraping/main.ipynb#W6sZmlsZQ%3D%3D?line=6'>7</a>\u001b[0m \u001b[39mSELECT H.name, H.country_name, H.'Hard_Win%', C.'Clay_Win%', G.'Grass_Win%'\u001b[39;00m\n\u001b[1;32m   (...)\u001b[0m\n\u001b[0;32m     <a href='vscode-notebook-cell:/c%3A/Users/nyc8p/OneDrive/Documents/GitHub/BSA-Tennis-Web-Scraping/main.ipynb#W6sZmlsZQ%3D%3D?line=9'>10</a>\u001b[0m \u001b[39mINNER JOIN grass G on H.name = G.name;\u001b[39;00m\n\u001b[0;32m     <a href='vscode-notebook-cell:/c%3A/Users/nyc8p/OneDrive/Documents/GitHub/BSA-Tennis-Web-Scraping/main.ipynb#W6sZmlsZQ%3D%3D?line=10'>11</a>\u001b[0m \u001b[39m\"\"\"\u001b[39;00m\n\u001b[1;32m---> <a href='vscode-notebook-cell:/c%3A/Users/nyc8p/OneDrive/Documents/GitHub/BSA-Tennis-Web-Scraping/main.ipynb#W6sZmlsZQ%3D%3D?line=11'>12</a>\u001b[0m tentative \u001b[39m=\u001b[39m pd\u001b[39m.\u001b[39;49mread_sql_query(cmd, conn) \u001b[39m#read the query to a dataframe\u001b[39;00m\n\u001b[0;32m     <a href='vscode-notebook-cell:/c%3A/Users/nyc8p/OneDrive/Documents/GitHub/BSA-Tennis-Web-Scraping/main.ipynb#W6sZmlsZQ%3D%3D?line=12'>13</a>\u001b[0m conn\u001b[39m.\u001b[39mclose()\n\u001b[0;32m     <a href='vscode-notebook-cell:/c%3A/Users/nyc8p/OneDrive/Documents/GitHub/BSA-Tennis-Web-Scraping/main.ipynb#W6sZmlsZQ%3D%3D?line=13'>14</a>\u001b[0m tentative\n",
      "File \u001b[1;32mc:\\Users\\nyc8p\\anaconda3\\lib\\site-packages\\pandas\\io\\sql.py:399\u001b[0m, in \u001b[0;36mread_sql_query\u001b[1;34m(sql, con, index_col, coerce_float, params, parse_dates, chunksize, dtype)\u001b[0m\n\u001b[0;32m    341\u001b[0m \u001b[39m\"\"\"\u001b[39;00m\n\u001b[0;32m    342\u001b[0m \u001b[39mRead SQL query into a DataFrame.\u001b[39;00m\n\u001b[0;32m    343\u001b[0m \n\u001b[1;32m   (...)\u001b[0m\n\u001b[0;32m    396\u001b[0m \u001b[39mparameter will be converted to UTC.\u001b[39;00m\n\u001b[0;32m    397\u001b[0m \u001b[39m\"\"\"\u001b[39;00m\n\u001b[0;32m    398\u001b[0m pandas_sql \u001b[39m=\u001b[39m pandasSQL_builder(con)\n\u001b[1;32m--> 399\u001b[0m \u001b[39mreturn\u001b[39;00m pandas_sql\u001b[39m.\u001b[39;49mread_query(\n\u001b[0;32m    400\u001b[0m     sql,\n\u001b[0;32m    401\u001b[0m     index_col\u001b[39m=\u001b[39;49mindex_col,\n\u001b[0;32m    402\u001b[0m     params\u001b[39m=\u001b[39;49mparams,\n\u001b[0;32m    403\u001b[0m     coerce_float\u001b[39m=\u001b[39;49mcoerce_float,\n\u001b[0;32m    404\u001b[0m     parse_dates\u001b[39m=\u001b[39;49mparse_dates,\n\u001b[0;32m    405\u001b[0m     chunksize\u001b[39m=\u001b[39;49mchunksize,\n\u001b[0;32m    406\u001b[0m     dtype\u001b[39m=\u001b[39;49mdtype,\n\u001b[0;32m    407\u001b[0m )\n",
      "File \u001b[1;32mc:\\Users\\nyc8p\\anaconda3\\lib\\site-packages\\pandas\\io\\sql.py:2080\u001b[0m, in \u001b[0;36mSQLiteDatabase.read_query\u001b[1;34m(self, sql, index_col, coerce_float, params, parse_dates, chunksize, dtype)\u001b[0m\n\u001b[0;32m   2068\u001b[0m \u001b[39mdef\u001b[39;00m \u001b[39mread_query\u001b[39m(\n\u001b[0;32m   2069\u001b[0m     \u001b[39mself\u001b[39m,\n\u001b[0;32m   2070\u001b[0m     sql,\n\u001b[1;32m   (...)\u001b[0m\n\u001b[0;32m   2076\u001b[0m     dtype: DtypeArg \u001b[39m|\u001b[39m \u001b[39mNone\u001b[39;00m \u001b[39m=\u001b[39m \u001b[39mNone\u001b[39;00m,\n\u001b[0;32m   2077\u001b[0m ):\n\u001b[0;32m   2079\u001b[0m     args \u001b[39m=\u001b[39m _convert_params(sql, params)\n\u001b[1;32m-> 2080\u001b[0m     cursor \u001b[39m=\u001b[39m \u001b[39mself\u001b[39;49m\u001b[39m.\u001b[39;49mexecute(\u001b[39m*\u001b[39;49margs)\n\u001b[0;32m   2081\u001b[0m     columns \u001b[39m=\u001b[39m [col_desc[\u001b[39m0\u001b[39m] \u001b[39mfor\u001b[39;00m col_desc \u001b[39min\u001b[39;00m cursor\u001b[39m.\u001b[39mdescription]\n\u001b[0;32m   2083\u001b[0m     \u001b[39mif\u001b[39;00m chunksize \u001b[39mis\u001b[39;00m \u001b[39mnot\u001b[39;00m \u001b[39mNone\u001b[39;00m:\n",
      "File \u001b[1;32mc:\\Users\\nyc8p\\anaconda3\\lib\\site-packages\\pandas\\io\\sql.py:2032\u001b[0m, in \u001b[0;36mSQLiteDatabase.execute\u001b[1;34m(self, *args, **kwargs)\u001b[0m\n\u001b[0;32m   2029\u001b[0m     \u001b[39mraise\u001b[39;00m ex \u001b[39mfrom\u001b[39;00m \u001b[39minner_exc\u001b[39;00m\n\u001b[0;32m   2031\u001b[0m ex \u001b[39m=\u001b[39m DatabaseError(\u001b[39mf\u001b[39m\u001b[39m\"\u001b[39m\u001b[39mExecution failed on sql \u001b[39m\u001b[39m'\u001b[39m\u001b[39m{\u001b[39;00margs[\u001b[39m0\u001b[39m]\u001b[39m}\u001b[39;00m\u001b[39m'\u001b[39m\u001b[39m: \u001b[39m\u001b[39m{\u001b[39;00mexc\u001b[39m}\u001b[39;00m\u001b[39m\"\u001b[39m)\n\u001b[1;32m-> 2032\u001b[0m \u001b[39mraise\u001b[39;00m ex \u001b[39mfrom\u001b[39;00m \u001b[39mexc\u001b[39;00m\n",
      "\u001b[1;31mDatabaseError\u001b[0m: Execution failed on sql ' \nSELECT H.name, H.country_name, H.'Hard_Win%', C.'Clay_Win%', G.'Grass_Win%'\nFROM hard H\nINNER JOIN clay C ON H.name = C.name\nINNER JOIN grass G on H.name = G.name;\n': no such column: G.Grass_Win%"
     ]
    }
   ],
   "source": [
    "conn = sqlite3.connect(\"tennis.db\")\n",
    "cursor = conn.cursor()\n",
    "\n",
    "#sql query\n",
    "cmd = \\\n",
    "\"\"\" \n",
    "SELECT H.name, H.country_name, H.'Hard_Win%', C.'Clay_Win%', G.'Grass_Win%'\n",
    "FROM hard H\n",
    "INNER JOIN clay C ON H.name = C.name\n",
    "INNER JOIN grass G on H.name = G.name;\n",
    "\"\"\"\n",
    "tentative = pd.read_sql_query(cmd, conn) #read the query to a dataframe\n",
    "conn.close()\n",
    "tentative"
   ]
  },
  {
   "cell_type": "code",
   "execution_count": null,
   "metadata": {},
   "outputs": [],
   "source": [
    "#for tennisabstract beautifulsoup, let's use the td tags"
   ]
  }
 ],
 "metadata": {
  "kernelspec": {
   "display_name": "base",
   "language": "python",
   "name": "python3"
  },
  "language_info": {
   "codemirror_mode": {
    "name": "ipython",
    "version": 3
   },
   "file_extension": ".py",
   "mimetype": "text/x-python",
   "name": "python",
   "nbconvert_exporter": "python",
   "pygments_lexer": "ipython3",
   "version": "3.9.12"
  }
 },
 "nbformat": 4,
 "nbformat_minor": 2
}
