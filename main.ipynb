{
 "cells": [
  {
   "cell_type": "code",
   "execution_count": 1,
   "metadata": {},
   "outputs": [],
   "source": [
    "import numpy as np\n",
    "import pandas as pd\n",
    "from bs4 import BeautifulSoup\n",
    "import sqlite3"
   ]
  },
  {
   "cell_type": "code",
   "execution_count": 2,
   "metadata": {},
   "outputs": [],
   "source": [
    "\n",
    "\n",
    "hard = pd.read_csv(\"initial csv/hard23.csv\")\n",
    "clay = pd.read_csv(\"initial csv/clay23.csv\")\n",
    "grass = pd.read_csv(\"initial csv/grass23.csv\")\n",
    "overall23 = pd.read_csv(\"initial csv/2023overall.csv\")\n",
    "\n",
    "#Renaming the columns\n",
    "# hard = [df.rename(columns={\"value\": \"Hard_Win%\"}) for df in hard]\n",
    "# clay = [df.rename(columns={\"value\": \"Clay_Win%\"}) for df in clay]\n",
    "# grass = [df.rename(columns={\"value\": \"Grass_Win%\"}) for df in grass]\n",
    "\n",
    "hard = hard.rename(columns = {\"value\": \"hard_Win%\"})\n",
    "clay = clay.rename(columns = {\"value\": \"clay_Win%\"})\n",
    "grass = grass.rename(columns = {\"value\": \"grass_Win%\"})\n",
    "\n",
    "overall23 = overall23.rename(columns = {\"value\": \"Overall_Win%\"})\n",
    "\n",
    "\n",
    "# get tennis abstract dataset and see what the intersecting dataframes look like for hard, clay, and grass\n",
    "clayserve = pd.read_csv(\"initial csv/clayserve.csv\")\n",
    "hardserve = pd.read_csv(\"initial csv/hardserve.csv\")\n",
    "grassserve = pd.read_csv(\"initial csv/grassserve.csv\")\n",
    "clayreturn = pd.read_csv(\"initial csv/clayreturn.csv\")\n",
    "hardreturn = pd.read_csv(\"initial csv/hardreturn.csv\")\n",
    "grassreturn = pd.read_csv(\"initial csv/grassreturn.csv\")\n",
    "rally = pd.read_csv(\"initial csv/rally.csv\", encoding='windows-1252')\n",
    "\n",
    "#edit player names to get rid of the country at end \n",
    "hardserve['Player'] = hardserve['Player'].str.slice(0,-6)\n",
    "clayserve['Player'] = clayserve['Player'].str.slice(0,-6)\n",
    "grassserve['Player'] = grassserve['Player'].str.slice(0,-6)\n",
    "\n",
    "hardreturn['Player'] = hardreturn['Player'].str.slice(0,-6)\n",
    "clayreturn['Player'] = clayreturn['Player'].str.slice(0,-6)\n",
    "grassreturn['Player'] = grassreturn['Player'].str.replace('\\xa0',' ', regex = False)\n",
    "grassreturn['Player'] = grassreturn['Player'].str.slice(0,-6)\n",
    "rally['Player'] = rally['Player'].str.replace('\\xa0',' ', regex = False)"
   ]
  },
  {
   "cell_type": "code",
   "execution_count": null,
   "metadata": {},
   "outputs": [],
   "source": []
  },
  {
   "cell_type": "code",
   "execution_count": 3,
   "metadata": {},
   "outputs": [],
   "source": [
    "#rename fritz alcaraz rune \n",
    "def rename(df):\n",
    "    df['name'] = df['name'].replace('Carlos Alcaraz Garfia', 'Carlos Alcaraz')\n",
    "    df['name'] = df['name'].replace('Taylor Harry Fritz', 'Taylor Fritz')\n",
    "    df['name'] = df['name'].replace('Holger Vitus Nodskov Rune', 'Holger Rune')\n",
    "rename(hard)\n",
    "rename(clay)\n",
    "rename(grass)"
   ]
  },
  {
   "cell_type": "code",
   "execution_count": 4,
   "metadata": {},
   "outputs": [],
   "source": [
    "#Now, let's merge all the 21 dfs together?\n",
    "conn = sqlite3.connect(\"tennis.db\")\n",
    "hard.to_sql(\"hard\", conn, if_exists = 'append', index = False)\n",
    "clay.to_sql(\"clay\", conn, if_exists = 'append', index = False)\n",
    "grass.to_sql(\"grass\", conn, if_exists = 'append', index = False)\n",
    "hardserve.to_sql(\"hardserve\", conn, if_exists = 'append', index = False)\n",
    "clayserve.to_sql(\"clayserve\", conn, if_exists = 'append', index = False)\n",
    "grassserve.to_sql(\"grassserve\", conn, if_exists = 'append', index = False)\n",
    "hardreturn.to_sql(\"hardreturn\", conn, if_exists = 'append', index = False)\n",
    "clayreturn.to_sql(\"clayreturn\", conn, if_exists = 'append', index = False)\n",
    "grassreturn.to_sql(\"grassreturn\", conn, if_exists = 'append', index = False)\n",
    "rally.to_sql(\"rally\", conn, if_exists = 'append', index = False)\n",
    "conn.close()\n"
   ]
  },
  {
   "cell_type": "code",
   "execution_count": 5,
   "metadata": {},
   "outputs": [],
   "source": [
    "# conn = sqlite3.connect(\"tennis.db\")\n",
    "# cursor = conn.cursor()\n",
    "\n",
    "# #sql query\n",
    "# cmd = \\\n",
    "# \"\"\" \n",
    "# SELECT H.name, H.country_name, H.'Hard_Win%', C.'Clay_Win%', G.'Grass_Win%'\n",
    "# FROM hard H\n",
    "# INNER JOIN clay C ON H.name = C.name\n",
    "# INNER JOIN grass G on H.name = G.name;\n",
    "# \"\"\"\n",
    "# tentative = pd.read_sql_query(cmd, conn) #read the query to a dataframe\n",
    "# conn.close()\n",
    "# tentative"
   ]
  },
  {
   "cell_type": "markdown",
   "metadata": {},
   "source": [
    "# Functions for serve, return, and rally"
   ]
  },
  {
   "cell_type": "code",
   "execution_count": 6,
   "metadata": {},
   "outputs": [],
   "source": [
    "def serve(surface):\n",
    "    '''\n",
    "    sql query that returns serve dataframe for specified surface\n",
    "    '''\n",
    "    conn = sqlite3.connect(\"tennis.db\")\n",
    "\n",
    "    #sql query\n",
    "    cmd = \\\n",
    "    f\"\"\" \n",
    "    SELECT H.name, H.country_name, H.'{surface}_Win%', HS.'Ace%', HS.SPW , HS.'DF%', HS.'1st%', HS.'2nd%', HS.'Hld%', HS.'Pts/SG' \n",
    "    FROM {surface} H\n",
    "    INNER JOIN {surface}serve HS ON H.name = HS.player\n",
    "    \"\"\"\n",
    "    serve = pd.read_sql_query(cmd, conn)\n",
    "    conn.close()\n",
    "    return serve"
   ]
  },
  {
   "cell_type": "code",
   "execution_count": 7,
   "metadata": {},
   "outputs": [],
   "source": [
    "def returns(surface):\n",
    "    '''sql query that returns return dataframe for specified surface'''\n",
    "    conn = sqlite3.connect(\"tennis.db\")\n",
    "\n",
    "    #sql query\n",
    "    cmd = \\\n",
    "    f\"\"\" \n",
    "    SELECT H.name, H.country_name, H.'{surface}_Win%', HS.RPW, HS.'vAce%' , HS.'v1st%', HS.'v2nd%', HS.'Brk%', HS.'PtsW/RG'\n",
    "    FROM {surface} H\n",
    "    INNER JOIN {surface}return HS ON H.name = HS.player\n",
    "    \"\"\"\n",
    "    returns = pd.read_sql_query(cmd, conn)\n",
    "    conn.close()\n",
    "    return returns"
   ]
  },
  {
   "cell_type": "code",
   "execution_count": 8,
   "metadata": {},
   "outputs": [],
   "source": [
    "def rally(surface):\n",
    "    conn = sqlite3.connect(\"tennis.db\")\n",
    "    #sql query\n",
    "    cmd = \\\n",
    "    f\"\"\" \n",
    "    SELECT H.name, H.country_name, H.'{surface}_Win%', HS.RallyLen, HS.'RLen-Serve' , HS.'RLen-Return',\n",
    "    HS.'1-3\\xa0W%', HS.'4-6\\xa0W%', HS.'7-9\\xa0W%', HS.'10+\\xa0W%', HS.'FH/GS', HS.'BH\\xa0Slice%', HS.'FHP/Match', HS.'BHP/Match'\n",
    "    FROM {surface} H\n",
    "    INNER JOIN rally HS ON H.name = HS.Player\n",
    "    \"\"\"\n",
    "    rally = pd.read_sql_query(cmd, conn)\n",
    "    conn.close()\n",
    "    return rally"
   ]
  },
  {
   "cell_type": "code",
   "execution_count": 9,
   "metadata": {},
   "outputs": [],
   "source": [
    "hardserve = serve(\"hard\")\n",
    "clayserve = serve(\"clay\")\n",
    "grassserve = serve(\"grass\")\n",
    "hardreturns = returns(\"hard\")\n",
    "clayreturns = returns(\"clay\")\n",
    "grassreturns = returns(\"grass\")\n",
    "hardrally = rally(\"hard\")\n",
    "clayrally = rally(\"clay\")\n",
    "grassrally = rally(\"grass\")"
   ]
  },
  {
   "cell_type": "code",
   "execution_count": 10,
   "metadata": {},
   "outputs": [],
   "source": [
    "hardserve.to_csv(\"HardServeBSA.csv\")\n",
    "clayserve.to_csv(\"ClayServeBSA.csv\")\n",
    "grassserve.to_csv(\"GrassServeBSA.csv\")\n",
    "\n",
    "hardreturns.to_csv(\"HardReturnsBSA.csv\")\n",
    "clayreturns.to_csv(\"ClayReturnsBSA.csv\")\n",
    "grassreturns.to_csv(\"GrassReturnsBSA.csv\")\n",
    "\n",
    "hardrally.to_csv(\"HardRallyBSA.csv\")\n",
    "clayrally.to_csv(\"ClayRallyBSA.csv\")\n",
    "grassrally.to_csv(\"GrassRallyBSA.csv\")"
   ]
  }
 ],
 "metadata": {
  "kernelspec": {
   "display_name": "base",
   "language": "python",
   "name": "python3"
  },
  "language_info": {
   "codemirror_mode": {
    "name": "ipython",
    "version": 3
   },
   "file_extension": ".py",
   "mimetype": "text/x-python",
   "name": "python",
   "nbconvert_exporter": "python",
   "pygments_lexer": "ipython3",
   "version": "3.9.12"
  }
 },
 "nbformat": 4,
 "nbformat_minor": 2
}
