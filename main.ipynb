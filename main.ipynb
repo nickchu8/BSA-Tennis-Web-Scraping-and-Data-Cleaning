{
 "cells": [
  {
   "cell_type": "code",
   "execution_count": 9,
   "metadata": {},
   "outputs": [],
   "source": [
    "import numpy as np\n",
    "import pandas as pd\n",
    "from bs4 import BeautifulSoup\n",
    "import sqlite3"
   ]
  },
  {
   "cell_type": "code",
   "execution_count": 57,
   "metadata": {},
   "outputs": [],
   "source": [
    "hard21 = pd.read_csv(\"2021hard.csv\")\n",
    "clay21 = pd.read_csv(\"2021clay.csv\")\n",
    "grass21 = pd.read_csv(\"2021grass.csv\")\n",
    "\n",
    "hard22 = pd.read_csv(\"2022hard.csv\")\n",
    "clay22 = pd.read_csv(\"2022clay.csv\")\n",
    "grass22 = pd.read_csv(\"2022grass.csv\")\n",
    "\n",
    "hard23 = pd.read_csv(\"2023hard.csv\")\n",
    "clay23 = pd.read_csv(\"2023clay.csv\")\n",
    "grass23 = pd.read_csv(\"2023grass.csv\")\n",
    "overall23 = pd.read_csv(\"2023overall.csv\")\n",
    "\n",
    "hard = [hard21, hard22, hard23]\n",
    "clay = [clay21, clay22, clay23]\n",
    "grass = [grass21, grass22, grass23]"
   ]
  },
  {
   "cell_type": "code",
   "execution_count": 61,
   "metadata": {},
   "outputs": [],
   "source": [
    "#Renaming the columns\n",
    "hard = [df.rename(columns={\"value\": \"Hard_Win%\"}) for df in hard]\n",
    "clay = [df.rename(columns={\"value\": \"Clay_Win%\"}) for df in clay]\n",
    "grass = [df.rename(columns={\"value\": \"Hard_Win%\"}) for df in grass]\n",
    "\n",
    "overall23 = overall23.rename(columns = {\"value\": \"Overall_Win%\"})\n",
    "hard21 = hard[0]\n",
    "hard22 = hard[1]\n",
    "hard23 = hard[2]\n",
    "\n",
    "clay21 = clay[0]\n",
    "clay22 = clay[1]\n",
    "clay23 = clay[2]\n",
    "\n",
    "#lets just focus on 2023\n",
    "grass21 = grass[0]\n",
    "grass22 = grass[1]\n",
    "grass23 = grass[2]"
   ]
  },
  {
   "cell_type": "code",
   "execution_count": 47,
   "metadata": {},
   "outputs": [
    {
     "data": {
      "text/plain": [
       "50"
      ]
     },
     "execution_count": 47,
     "metadata": {},
     "output_type": "execute_result"
    }
   ],
   "source": [
    "#Now, let's merge all the 21 dfs together?\n",
    "conn = sqlite3.connect(\"tennis.db\")\n",
    "hard23.to_sql(\"hard\", conn, if_exists = 'append', index = False)\n",
    "clay23.to_sql(\"clay\", conn, if_exists = 'append', index = False)\n",
    "grass23.to_sql(\"grass\", conn, if_exists = 'append', index = False)\n",
    "\n",
    "cursor = conn.cursor()\n",
    "\n",
    "#sql query\n",
    "cmd = \"\"\" \n",
    "SELECT h.name, h.country_name, h.Hard_Win%, \n",
    "\n",
    "\"\"\""
   ]
  },
  {
   "cell_type": "code",
   "execution_count": null,
   "metadata": {},
   "outputs": [],
   "source": [
    "#for tennisabstract beautifulsoup, let's use the td tags"
   ]
  }
 ],
 "metadata": {
  "kernelspec": {
   "display_name": "base",
   "language": "python",
   "name": "python3"
  },
  "language_info": {
   "codemirror_mode": {
    "name": "ipython",
    "version": 3
   },
   "file_extension": ".py",
   "mimetype": "text/x-python",
   "name": "python",
   "nbconvert_exporter": "python",
   "pygments_lexer": "ipython3",
   "version": "3.9.12"
  }
 },
 "nbformat": 4,
 "nbformat_minor": 2
}
